{
 "cells": [
  {
   "cell_type": "code",
   "execution_count": 1,
   "metadata": {},
   "outputs": [],
   "source": [
    "import pandas as pd\r\n",
    "import numpy as np\r\n",
    "\r\n"
   ]
  },
  {
   "cell_type": "markdown",
   "metadata": {},
   "source": [
    "# Reading in the data.\r\n",
    "- For conveniency separate the title from the actual data.\r\n",
    "- Rename the columns for easier indexing."
   ]
  },
  {
   "cell_type": "code",
   "execution_count": 45,
   "metadata": {},
   "outputs": [],
   "source": [
    "df = pd.read_csv('sample-data.csv', header= None)\r\n",
    "\r\n",
    "# remove file name row\r\n",
    "orig_header, df = df.iloc[:2], df.iloc[2:]\r\n",
    "\r\n",
    "# organize df header and index\r\n",
    "df.reset_index(drop= True, inplace= True)\r\n",
    "df.rename(columns= {0:'Heading', 1:'Item', 2:'Value'}, inplace= True)\r\n"
   ]
  },
  {
   "cell_type": "markdown",
   "metadata": {},
   "source": [
    "# Sections' total.\r\n",
    "- Split the data by sections.\r\n",
    "- Calculate and append each section's total."
   ]
  },
  {
   "cell_type": "code",
   "execution_count": 50,
   "metadata": {},
   "outputs": [
    {
     "data": {
      "text/plain": [
       "[     Heading       Item  Value\n",
       " 0  Heading 1        NaN    NaN\n",
       " 1                Item 1   1.32\n",
       " 2                Item 2   2.12\n",
       " 3                Item 3   5.76\n",
       " 4                   NaN    NaN\n",
       " 5                Item 4   4.87\n",
       " 6                Item 5   5.43\n",
       " 7             Sub Total  19.50,\n",
       "      Heading       Item   Value\n",
       " 0  Heading 2        NaN     NaN\n",
       " 1                Item 1   332.0\n",
       " 2                Item 2   343.0\n",
       " 3                Item 3  6454.0\n",
       " 4                   NaN     NaN\n",
       " 5                   NaN     NaN\n",
       " 6             Sub Total  7129.0,\n",
       "      Heading       Item   Value\n",
       " 0  Heading 3        NaN     NaN\n",
       " 1                Item 1   332.0\n",
       " 2                Item 2   343.0\n",
       " 3                Item 3  6454.0\n",
       " 4             Sub Total  7129.0]"
      ]
     },
     "execution_count": 50,
     "metadata": {},
     "output_type": "execute_result"
    }
   ],
   "source": [
    "# split by heading\r\n",
    "df['Heading'].fillna('', inplace= True)\r\n",
    "heading_idx = df.loc[df['Heading'].str.contains('Heading')].index\r\n",
    "\r\n",
    "splits = []\r\n",
    "for idx, sect  in enumerate(heading_idx):\r\n",
    "\r\n",
    "    try:\r\n",
    "        temp = df.iloc[sect: heading_idx[idx + 1]].copy()\r\n",
    "\r\n",
    "    except:\r\n",
    "        temp = df.iloc[sect: ].copy()\r\n",
    "\r\n",
    "    # # remove rows with empty values\r\n",
    "    # empty_vals_idx = temp[temp['Value'].isna()].index[1:]\r\n",
    "    # temp.drop(empty_vals_idx, inplace= True)\r\n",
    "\r\n",
    "    # add total\r\n",
    "    temp.reset_index(drop= True, inplace= True)\r\n",
    "    total = temp['Value'].sum()\r\n",
    "    temp.loc[len(temp.index)] = ['', 'Sub Total', total]\r\n",
    "\r\n",
    "    splits.append(temp)\r\n",
    "\r\n",
    "splits\r\n"
   ]
  },
  {
   "cell_type": "markdown",
   "metadata": {},
   "source": [
    "# Gross total.\r\n",
    "- Concatinate all sections.\r\n",
    "- Calculate and append gross total.\r\n"
   ]
  },
  {
   "cell_type": "code",
   "execution_count": 58,
   "metadata": {},
   "outputs": [
    {
     "data": {
      "text/html": [
       "<div>\n",
       "<style scoped>\n",
       "    .dataframe tbody tr th:only-of-type {\n",
       "        vertical-align: middle;\n",
       "    }\n",
       "\n",
       "    .dataframe tbody tr th {\n",
       "        vertical-align: top;\n",
       "    }\n",
       "\n",
       "    .dataframe thead th {\n",
       "        text-align: right;\n",
       "    }\n",
       "</style>\n",
       "<table border=\"1\" class=\"dataframe\">\n",
       "  <thead>\n",
       "    <tr style=\"text-align: right;\">\n",
       "      <th></th>\n",
       "      <th>Heading</th>\n",
       "      <th>Item</th>\n",
       "      <th>Value</th>\n",
       "    </tr>\n",
       "  </thead>\n",
       "  <tbody>\n",
       "    <tr>\n",
       "      <th>0</th>\n",
       "      <td>Heading 1</td>\n",
       "      <td>NaN</td>\n",
       "      <td>NaN</td>\n",
       "    </tr>\n",
       "    <tr>\n",
       "      <th>1</th>\n",
       "      <td></td>\n",
       "      <td>Item 1</td>\n",
       "      <td>1.32</td>\n",
       "    </tr>\n",
       "    <tr>\n",
       "      <th>2</th>\n",
       "      <td></td>\n",
       "      <td>Item 2</td>\n",
       "      <td>2.12</td>\n",
       "    </tr>\n",
       "    <tr>\n",
       "      <th>3</th>\n",
       "      <td></td>\n",
       "      <td>Item 3</td>\n",
       "      <td>5.76</td>\n",
       "    </tr>\n",
       "    <tr>\n",
       "      <th>4</th>\n",
       "      <td></td>\n",
       "      <td>NaN</td>\n",
       "      <td>NaN</td>\n",
       "    </tr>\n",
       "  </tbody>\n",
       "</table>\n",
       "</div>"
      ],
      "text/plain": [
       "     Heading    Item  Value\n",
       "0  Heading 1     NaN    NaN\n",
       "1             Item 1   1.32\n",
       "2             Item 2   2.12\n",
       "3             Item 3   5.76\n",
       "4                NaN    NaN"
      ]
     },
     "execution_count": 58,
     "metadata": {},
     "output_type": "execute_result"
    }
   ],
   "source": [
    "# merge all sections\r\n",
    "sects_df = pd.concat(splits)\r\n",
    "\r\n",
    "\r\n",
    "# add gross total\r\n",
    "sects_df.reset_index(drop= True, inplace= True)\r\n",
    "gross_total = sects_df.loc[sects_df['Item'] == 'Sub Total']['Value'].sum()\r\n",
    "sects_df.loc[len(sects_df)] = ['', 'Total', gross_total]\r\n",
    "sects_df.head()\r\n"
   ]
  },
  {
   "cell_type": "markdown",
   "metadata": {},
   "source": [
    "# Formating.\r\n",
    "- Return the data to the original format."
   ]
  },
  {
   "cell_type": "code",
   "execution_count": 57,
   "metadata": {},
   "outputs": [
    {
     "data": {
      "text/html": [
       "<div>\n",
       "<style scoped>\n",
       "    .dataframe tbody tr th:only-of-type {\n",
       "        vertical-align: middle;\n",
       "    }\n",
       "\n",
       "    .dataframe tbody tr th {\n",
       "        vertical-align: top;\n",
       "    }\n",
       "\n",
       "    .dataframe thead th {\n",
       "        text-align: right;\n",
       "    }\n",
       "</style>\n",
       "<table border=\"1\" class=\"dataframe\">\n",
       "  <thead>\n",
       "    <tr style=\"text-align: right;\">\n",
       "      <th></th>\n",
       "      <th>0</th>\n",
       "      <th>1</th>\n",
       "      <th>2</th>\n",
       "    </tr>\n",
       "  </thead>\n",
       "  <tbody>\n",
       "    <tr>\n",
       "      <th>0</th>\n",
       "      <td>This is the title of the sheet</td>\n",
       "      <td>NaN</td>\n",
       "      <td>NaN</td>\n",
       "    </tr>\n",
       "    <tr>\n",
       "      <th>1</th>\n",
       "      <td>NaN</td>\n",
       "      <td>NaN</td>\n",
       "      <td>NaN</td>\n",
       "    </tr>\n",
       "    <tr>\n",
       "      <th>2</th>\n",
       "      <td>Heading 1</td>\n",
       "      <td>NaN</td>\n",
       "      <td>NaN</td>\n",
       "    </tr>\n",
       "    <tr>\n",
       "      <th>3</th>\n",
       "      <td></td>\n",
       "      <td>Item 1</td>\n",
       "      <td>1.32</td>\n",
       "    </tr>\n",
       "    <tr>\n",
       "      <th>4</th>\n",
       "      <td></td>\n",
       "      <td>Item 2</td>\n",
       "      <td>2.12</td>\n",
       "    </tr>\n",
       "    <tr>\n",
       "      <th>5</th>\n",
       "      <td></td>\n",
       "      <td>Item 3</td>\n",
       "      <td>5.76</td>\n",
       "    </tr>\n",
       "    <tr>\n",
       "      <th>6</th>\n",
       "      <td></td>\n",
       "      <td>NaN</td>\n",
       "      <td>NaN</td>\n",
       "    </tr>\n",
       "    <tr>\n",
       "      <th>7</th>\n",
       "      <td></td>\n",
       "      <td>Item 4</td>\n",
       "      <td>4.87</td>\n",
       "    </tr>\n",
       "    <tr>\n",
       "      <th>8</th>\n",
       "      <td></td>\n",
       "      <td>Item 5</td>\n",
       "      <td>5.43</td>\n",
       "    </tr>\n",
       "    <tr>\n",
       "      <th>9</th>\n",
       "      <td></td>\n",
       "      <td>Sub Total</td>\n",
       "      <td>19.50</td>\n",
       "    </tr>\n",
       "  </tbody>\n",
       "</table>\n",
       "</div>"
      ],
      "text/plain": [
       "                                0          1      2\n",
       "0  This is the title of the sheet        NaN    NaN\n",
       "1                             NaN        NaN    NaN\n",
       "2                       Heading 1        NaN    NaN\n",
       "3                                     Item 1   1.32\n",
       "4                                     Item 2   2.12\n",
       "5                                     Item 3   5.76\n",
       "6                                        NaN    NaN\n",
       "7                                     Item 4   4.87\n",
       "8                                     Item 5   5.43\n",
       "9                                  Sub Total  19.50"
      ]
     },
     "execution_count": 57,
     "metadata": {},
     "output_type": "execute_result"
    }
   ],
   "source": [
    "\r\n",
    "sects_df.rename(columns= {'Heading':0, 'Item':1, 'Value': 2}, inplace= True)\r\n",
    "df = pd.concat([orig_header, sects_df], axis= 0)\r\n",
    "df.reset_index(drop= True, inplace= True)\r\n",
    "df.head(10)"
   ]
  },
  {
   "cell_type": "code",
   "execution_count": null,
   "metadata": {},
   "outputs": [],
   "source": []
  }
 ],
 "metadata": {
  "interpreter": {
   "hash": "02a67ff5ecc90a095175fdab06f5452444ff028ade5ce6acbf4a9116e6ff7839"
  },
  "kernelspec": {
   "display_name": "Python 3.8.3 64-bit ('base': conda)",
   "name": "python3"
  },
  "language_info": {
   "codemirror_mode": {
    "name": "ipython",
    "version": 3
   },
   "file_extension": ".py",
   "mimetype": "text/x-python",
   "name": "python",
   "nbconvert_exporter": "python",
   "pygments_lexer": "ipython3",
   "version": "3.8.3"
  },
  "orig_nbformat": 4
 },
 "nbformat": 4,
 "nbformat_minor": 2
}